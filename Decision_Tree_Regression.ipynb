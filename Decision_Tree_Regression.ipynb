{
  "nbformat": 4,
  "nbformat_minor": 0,
  "metadata": {
    "colab": {
      "provenance": [],
      "toc_visible": true,
      "authorship_tag": "ABX9TyOOGA1LCHSZiYwVXBb89ENT",
      "include_colab_link": true
    },
    "kernelspec": {
      "name": "python3",
      "display_name": "Python 3"
    },
    "language_info": {
      "name": "python"
    }
  },
  "cells": [
    {
      "cell_type": "markdown",
      "metadata": {
        "id": "view-in-github",
        "colab_type": "text"
      },
      "source": [
        "<a href=\"https://colab.research.google.com/github/GuanRuLai/Python-Maching-Learning/blob/main/Decision_Tree_Regression.ipynb\" target=\"_parent\"><img src=\"https://colab.research.google.com/assets/colab-badge.svg\" alt=\"Open In Colab\"/></a>"
      ]
    },
    {
      "cell_type": "markdown",
      "source": [
        "# Data preprocessing"
      ],
      "metadata": {
        "id": "d1SRJhQ1MmOX"
      }
    },
    {
      "cell_type": "markdown",
      "source": [
        "## Import dataset"
      ],
      "metadata": {
        "id": "kru7jPjKMo99"
      }
    },
    {
      "cell_type": "code",
      "execution_count": 8,
      "metadata": {
        "id": "LNqI0dSA521p"
      },
      "outputs": [],
      "source": [
        "import os\n",
        "if not os.path.isdir(\"HappyML\"):\n",
        "  os.system(\"git clone https://github.com/cnchi/HappyML.git\")\n",
        "\n",
        "import pandas as pd\n",
        "df = pd.read_csv(\"Position_Salaries.csv\")"
      ]
    },
    {
      "cell_type": "markdown",
      "source": [
        "## Split independent variables and dependent variable"
      ],
      "metadata": {
        "id": "QtOn9XlEMzHh"
      }
    },
    {
      "cell_type": "code",
      "source": [
        "import HappyML.preprocessor as pp\n",
        "\n",
        "X, Y = pp.decomposition(dataset=df, x_columns=[1], y_columns=[-1])\n",
        "X = X.values\n",
        "Y = Y.values\n",
        "print(X)\n",
        "print(Y)"
      ],
      "metadata": {
        "colab": {
          "base_uri": "https://localhost:8080/"
        },
        "id": "uQkLlxe8M1dg",
        "outputId": "110e2a3b-0075-4170-b811-2174fa80ea75"
      },
      "execution_count": 9,
      "outputs": [
        {
          "output_type": "stream",
          "name": "stdout",
          "text": [
            "[[ 1]\n",
            " [ 2]\n",
            " [ 3]\n",
            " [ 4]\n",
            " [ 5]\n",
            " [ 6]\n",
            " [ 7]\n",
            " [ 8]\n",
            " [ 9]\n",
            " [10]]\n",
            "[[  45000]\n",
            " [  50000]\n",
            " [  60000]\n",
            " [  80000]\n",
            " [ 110000]\n",
            " [ 150000]\n",
            " [ 200000]\n",
            " [ 300000]\n",
            " [ 500000]\n",
            " [1000000]]\n"
          ]
        }
      ]
    },
    {
      "cell_type": "markdown",
      "source": [
        "## Handle missing data"
      ],
      "metadata": {
        "id": "fzGR9SuvM4uh"
      }
    },
    {
      "cell_type": "code",
      "source": [
        "print(df.isnull().sum())"
      ],
      "metadata": {
        "colab": {
          "base_uri": "https://localhost:8080/"
        },
        "id": "tEEvFFBAM5uj",
        "outputId": "58cfabeb-db93-45a7-94d8-c39e0572cbaf"
      },
      "execution_count": 10,
      "outputs": [
        {
          "output_type": "stream",
          "name": "stdout",
          "text": [
            "Position    0\n",
            "Level       0\n",
            "Salary      0\n",
            "dtype: int64\n"
          ]
        }
      ]
    },
    {
      "cell_type": "markdown",
      "source": [
        "# Decition tree model processing"
      ],
      "metadata": {
        "id": "K_V0P7htM-Ve"
      }
    },
    {
      "cell_type": "markdown",
      "source": [
        "## Model training"
      ],
      "metadata": {
        "id": "8m2h7hrQNEFx"
      }
    },
    {
      "cell_type": "code",
      "source": [
        "from sklearn.tree import DecisionTreeRegressor\n",
        "\n",
        "regressor = DecisionTreeRegressor(random_state=0)\n",
        "regressor.fit(X, Y)"
      ],
      "metadata": {
        "colab": {
          "base_uri": "https://localhost:8080/",
          "height": 74
        },
        "id": "BN-wkJZcNG4G",
        "outputId": "756d0327-853e-4d05-ae52-de567ff44ca6"
      },
      "execution_count": 11,
      "outputs": [
        {
          "output_type": "execute_result",
          "data": {
            "text/plain": [
              "DecisionTreeRegressor(random_state=0)"
            ],
            "text/html": [
              "<style>#sk-container-id-2 {color: black;background-color: white;}#sk-container-id-2 pre{padding: 0;}#sk-container-id-2 div.sk-toggleable {background-color: white;}#sk-container-id-2 label.sk-toggleable__label {cursor: pointer;display: block;width: 100%;margin-bottom: 0;padding: 0.3em;box-sizing: border-box;text-align: center;}#sk-container-id-2 label.sk-toggleable__label-arrow:before {content: \"▸\";float: left;margin-right: 0.25em;color: #696969;}#sk-container-id-2 label.sk-toggleable__label-arrow:hover:before {color: black;}#sk-container-id-2 div.sk-estimator:hover label.sk-toggleable__label-arrow:before {color: black;}#sk-container-id-2 div.sk-toggleable__content {max-height: 0;max-width: 0;overflow: hidden;text-align: left;background-color: #f0f8ff;}#sk-container-id-2 div.sk-toggleable__content pre {margin: 0.2em;color: black;border-radius: 0.25em;background-color: #f0f8ff;}#sk-container-id-2 input.sk-toggleable__control:checked~div.sk-toggleable__content {max-height: 200px;max-width: 100%;overflow: auto;}#sk-container-id-2 input.sk-toggleable__control:checked~label.sk-toggleable__label-arrow:before {content: \"▾\";}#sk-container-id-2 div.sk-estimator input.sk-toggleable__control:checked~label.sk-toggleable__label {background-color: #d4ebff;}#sk-container-id-2 div.sk-label input.sk-toggleable__control:checked~label.sk-toggleable__label {background-color: #d4ebff;}#sk-container-id-2 input.sk-hidden--visually {border: 0;clip: rect(1px 1px 1px 1px);clip: rect(1px, 1px, 1px, 1px);height: 1px;margin: -1px;overflow: hidden;padding: 0;position: absolute;width: 1px;}#sk-container-id-2 div.sk-estimator {font-family: monospace;background-color: #f0f8ff;border: 1px dotted black;border-radius: 0.25em;box-sizing: border-box;margin-bottom: 0.5em;}#sk-container-id-2 div.sk-estimator:hover {background-color: #d4ebff;}#sk-container-id-2 div.sk-parallel-item::after {content: \"\";width: 100%;border-bottom: 1px solid gray;flex-grow: 1;}#sk-container-id-2 div.sk-label:hover label.sk-toggleable__label {background-color: #d4ebff;}#sk-container-id-2 div.sk-serial::before {content: \"\";position: absolute;border-left: 1px solid gray;box-sizing: border-box;top: 0;bottom: 0;left: 50%;z-index: 0;}#sk-container-id-2 div.sk-serial {display: flex;flex-direction: column;align-items: center;background-color: white;padding-right: 0.2em;padding-left: 0.2em;position: relative;}#sk-container-id-2 div.sk-item {position: relative;z-index: 1;}#sk-container-id-2 div.sk-parallel {display: flex;align-items: stretch;justify-content: center;background-color: white;position: relative;}#sk-container-id-2 div.sk-item::before, #sk-container-id-2 div.sk-parallel-item::before {content: \"\";position: absolute;border-left: 1px solid gray;box-sizing: border-box;top: 0;bottom: 0;left: 50%;z-index: -1;}#sk-container-id-2 div.sk-parallel-item {display: flex;flex-direction: column;z-index: 1;position: relative;background-color: white;}#sk-container-id-2 div.sk-parallel-item:first-child::after {align-self: flex-end;width: 50%;}#sk-container-id-2 div.sk-parallel-item:last-child::after {align-self: flex-start;width: 50%;}#sk-container-id-2 div.sk-parallel-item:only-child::after {width: 0;}#sk-container-id-2 div.sk-dashed-wrapped {border: 1px dashed gray;margin: 0 0.4em 0.5em 0.4em;box-sizing: border-box;padding-bottom: 0.4em;background-color: white;}#sk-container-id-2 div.sk-label label {font-family: monospace;font-weight: bold;display: inline-block;line-height: 1.2em;}#sk-container-id-2 div.sk-label-container {text-align: center;}#sk-container-id-2 div.sk-container {/* jupyter's `normalize.less` sets `[hidden] { display: none; }` but bootstrap.min.css set `[hidden] { display: none !important; }` so we also need the `!important` here to be able to override the default hidden behavior on the sphinx rendered scikit-learn.org. See: https://github.com/scikit-learn/scikit-learn/issues/21755 */display: inline-block !important;position: relative;}#sk-container-id-2 div.sk-text-repr-fallback {display: none;}</style><div id=\"sk-container-id-2\" class=\"sk-top-container\"><div class=\"sk-text-repr-fallback\"><pre>DecisionTreeRegressor(random_state=0)</pre><b>In a Jupyter environment, please rerun this cell to show the HTML representation or trust the notebook. <br />On GitHub, the HTML representation is unable to render, please try loading this page with nbviewer.org.</b></div><div class=\"sk-container\" hidden><div class=\"sk-item\"><div class=\"sk-estimator sk-toggleable\"><input class=\"sk-toggleable__control sk-hidden--visually\" id=\"sk-estimator-id-2\" type=\"checkbox\" checked><label for=\"sk-estimator-id-2\" class=\"sk-toggleable__label sk-toggleable__label-arrow\">DecisionTreeRegressor</label><div class=\"sk-toggleable__content\"><pre>DecisionTreeRegressor(random_state=0)</pre></div></div></div></div></div>"
            ]
          },
          "metadata": {},
          "execution_count": 11
        }
      ]
    },
    {
      "cell_type": "markdown",
      "source": [
        "## Visualizing results(smoother curve & higher resolution)"
      ],
      "metadata": {
        "id": "D45lnQJRNVYW"
      }
    },
    {
      "cell_type": "code",
      "source": [
        "import numpy as np\n",
        "import matplotlib.pyplot as plt\n",
        "\n",
        "X_grid = np.arange(min(X), max(X), 0.1) # add float\n",
        "X_grid = X_grid.reshape((len(X_grid), 1)) # turn 1 row, 10 columns into 10 rows, 1 column\n",
        "print(X_grid)\n",
        "\n",
        "plt.scatter(X, Y, color = 'red', label='Actual Data')\n",
        "plt.plot(X_grid, regressor.predict(X_grid), color = 'blue', label='Regression Line')\n",
        "plt.title(\"Truth or Bluff (Decision Tree Regression)\")\n",
        "plt.xlabel(\"Position level\")\n",
        "plt.ylabel('Salary')\n",
        "plt.legend()\n",
        "plt.show()"
      ],
      "metadata": {
        "colab": {
          "base_uri": "https://localhost:8080/",
          "height": 1000
        },
        "id": "banbirBONWgj",
        "outputId": "1cfad4fe-21e1-4fa0-a4b3-a46736a009fb"
      },
      "execution_count": 12,
      "outputs": [
        {
          "output_type": "stream",
          "name": "stdout",
          "text": [
            "[[1. ]\n",
            " [1.1]\n",
            " [1.2]\n",
            " [1.3]\n",
            " [1.4]\n",
            " [1.5]\n",
            " [1.6]\n",
            " [1.7]\n",
            " [1.8]\n",
            " [1.9]\n",
            " [2. ]\n",
            " [2.1]\n",
            " [2.2]\n",
            " [2.3]\n",
            " [2.4]\n",
            " [2.5]\n",
            " [2.6]\n",
            " [2.7]\n",
            " [2.8]\n",
            " [2.9]\n",
            " [3. ]\n",
            " [3.1]\n",
            " [3.2]\n",
            " [3.3]\n",
            " [3.4]\n",
            " [3.5]\n",
            " [3.6]\n",
            " [3.7]\n",
            " [3.8]\n",
            " [3.9]\n",
            " [4. ]\n",
            " [4.1]\n",
            " [4.2]\n",
            " [4.3]\n",
            " [4.4]\n",
            " [4.5]\n",
            " [4.6]\n",
            " [4.7]\n",
            " [4.8]\n",
            " [4.9]\n",
            " [5. ]\n",
            " [5.1]\n",
            " [5.2]\n",
            " [5.3]\n",
            " [5.4]\n",
            " [5.5]\n",
            " [5.6]\n",
            " [5.7]\n",
            " [5.8]\n",
            " [5.9]\n",
            " [6. ]\n",
            " [6.1]\n",
            " [6.2]\n",
            " [6.3]\n",
            " [6.4]\n",
            " [6.5]\n",
            " [6.6]\n",
            " [6.7]\n",
            " [6.8]\n",
            " [6.9]\n",
            " [7. ]\n",
            " [7.1]\n",
            " [7.2]\n",
            " [7.3]\n",
            " [7.4]\n",
            " [7.5]\n",
            " [7.6]\n",
            " [7.7]\n",
            " [7.8]\n",
            " [7.9]\n",
            " [8. ]\n",
            " [8.1]\n",
            " [8.2]\n",
            " [8.3]\n",
            " [8.4]\n",
            " [8.5]\n",
            " [8.6]\n",
            " [8.7]\n",
            " [8.8]\n",
            " [8.9]\n",
            " [9. ]\n",
            " [9.1]\n",
            " [9.2]\n",
            " [9.3]\n",
            " [9.4]\n",
            " [9.5]\n",
            " [9.6]\n",
            " [9.7]\n",
            " [9.8]\n",
            " [9.9]]\n"
          ]
        },
        {
          "output_type": "display_data",
          "data": {
            "text/plain": [
              "<Figure size 640x480 with 1 Axes>"
            ],
            "image/png": "[encoded data removed]"
          },
          "metadata": {}
        }
      ]
    },
    {
      "cell_type": "markdown",
      "source": [
        "## Answer prediction"
      ],
      "metadata": {
        "id": "Jgtz7D3ANtpx"
      }
    },
    {
      "cell_type": "code",
      "source": [
        "print(regressor.predict([[8.5]]))"
      ],
      "metadata": {
        "colab": {
          "base_uri": "https://localhost:8080/"
        },
        "id": "b7BsvIqgNv39",
        "outputId": "cef3e567-19a5-46ed-9d12-3c5d86795943"
      },
      "execution_count": 13,
      "outputs": [
        {
          "output_type": "stream",
          "name": "stdout",
          "text": [
            "[300000.]\n"
          ]
        }
      ]
    }
  ]
}