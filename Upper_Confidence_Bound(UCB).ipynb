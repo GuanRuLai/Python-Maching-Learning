{
  "nbformat": 4,
  "nbformat_minor": 0,
  "metadata": {
    "colab": {
      "provenance": [],
      "toc_visible": true,
      "authorship_tag": "ABX9TyOt4RzJkn77HFj8eHJiKj9L",
      "include_colab_link": true
    },
    "kernelspec": {
      "name": "python3",
      "display_name": "Python 3"
    },
    "language_info": {
      "name": "python"
    }
  },
  "cells": [
    {
      "cell_type": "markdown",
      "metadata": {
        "id": "view-in-github",
        "colab_type": "text"
      },
      "source": [
        "<a href=\"https://colab.research.google.com/github/GuanRuLai/Python-Maching-Learning/blob/main/Upper_Confidence_Bound(UCB).ipynb\" target=\"_parent\"><img src=\"https://colab.research.google.com/assets/colab-badge.svg\" alt=\"Open In Colab\"/></a>"
      ]
    },
    {
      "cell_type": "markdown",
      "source": [
        "# Data preprocessing"
      ],
      "metadata": {
        "id": "hw3Bz_ZeUUg4"
      }
    },
    {
      "cell_type": "markdown",
      "source": [
        "## Import dataset"
      ],
      "metadata": {
        "id": "ozHCR36xUWCV"
      }
    },
    {
      "cell_type": "code",
      "execution_count": null,
      "metadata": {
        "id": "XL4kdIFwG14O"
      },
      "outputs": [],
      "source": [
        "import pandas as pd\n",
        "df = pd.read_csv(\"Ads_CTR_Optimisation.csv\")"
      ]
    },
    {
      "cell_type": "markdown",
      "source": [
        "# Reinforcement learning model processing"
      ],
      "metadata": {
        "id": "nUDZECHecTKb"
      }
    },
    {
      "cell_type": "markdown",
      "source": [
        "## Model training"
      ],
      "metadata": {
        "id": "mOEu0EMkWnWF"
      }
    },
    {
      "cell_type": "code",
      "source": [
        "import math\n",
        "\n",
        "N = 1000 # the number of rounds/users is 10000(can be adjust to test the model)\n",
        "d = 10 # the number of kinds of ads\n",
        "ads_selected = []\n",
        "number_of_selections = [0] * d\n",
        "sum_of_rewards = [0] * d\n",
        "total_rewards = 0\n",
        "\n",
        "for n in range(0, N):\n",
        "  ad = 0\n",
        "  max_upper_bound = 0\n",
        "\n",
        "  for i in range(0, d):\n",
        "    if number_of_selections[i] > 0: # check if the ad is selected\n",
        "      avg_reward = sum_of_rewards[i] / number_of_selections[i]\n",
        "      CI = math.sqrt(3 / 2 * math.log(n + 1) / number_of_selections[i])\n",
        "      upper_bound = avg_reward + CI\n",
        "    else:\n",
        "      upper_bound = 1e400 # ensure the ad is selected\n",
        "\n",
        "    if upper_bound > max_upper_bound:\n",
        "      max_upper_bound = upper_bound\n",
        "      ad = i\n",
        "\n",
        "  ads_selected.append(ad)\n",
        "  number_of_selections[ad] += 1\n",
        "  reward = df.values[n, ad]\n",
        "  sum_of_rewards[ad] += reward\n",
        "  total_rewards += reward"
      ],
      "metadata": {
        "id": "1FbsTRbZWtkU"
      },
      "execution_count": null,
      "outputs": []
    },
    {
      "cell_type": "markdown",
      "source": [
        "## Visualizing the results"
      ],
      "metadata": {
        "id": "ATWlgfuviekU"
      }
    },
    {
      "cell_type": "code",
      "source": [
        "import matplotlib.pyplot as plt\n",
        "\n",
        "plt.hist(ads_selected)\n",
        "plt.title(\"Histogram of ads selections\")\n",
        "plt.xlabel(\"Ads\")\n",
        "plt.ylabel(\"Number of times each ad was selected\")"
      ],
      "metadata": {
        "colab": {
          "base_uri": "https://localhost:8080/",
          "height": 489
        },
        "id": "STistkEtiipT",
        "outputId": "eefc000b-abc0-4fe1-b6d4-a8ab75ac56e4"
      },
      "execution_count": null,
      "outputs": [
        {
          "output_type": "execute_result",
          "data": {
            "text/plain": [
              "Text(0, 0.5, 'Number of times each ad was selected')"
            ]
          },
          "metadata": {},
          "execution_count": 9
        },
        {
          "output_type": "display_data",
          "data": {
            "text/plain": [
              "<Figure size 640x480 with 1 Axes>"
            ],
            "image/png": "[encoded data removed]"
          },
          "metadata": {}
        }
      ]
    }
  ]
}