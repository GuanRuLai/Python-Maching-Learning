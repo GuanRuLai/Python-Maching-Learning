{
  "nbformat": 4,
  "nbformat_minor": 0,
  "metadata": {
    "colab": {
      "provenance": [],
      "toc_visible": true,
      "authorship_tag": "ABX9TyPA+HgUryn8WRPm0G1riNtE",
      "include_colab_link": true
    },
    "kernelspec": {
      "name": "python3",
      "display_name": "Python 3"
    },
    "language_info": {
      "name": "python"
    }
  },
  "cells": [
    {
      "cell_type": "markdown",
      "metadata": {
        "id": "view-in-github",
        "colab_type": "text"
      },
      "source": [
        "<a href=\"https://colab.research.google.com/github/GuanRuLai/Python-Maching-Learning/blob/main/Support_Vector_Regression(SVR).ipynb\" target=\"_parent\"><img src=\"https://colab.research.google.com/assets/colab-badge.svg\" alt=\"Open In Colab\"/></a>"
      ]
    },
    {
      "cell_type": "markdown",
      "source": [
        "# Data preprocessing"
      ],
      "metadata": {
        "id": "gf0F2Dp6KSZp"
      }
    },
    {
      "cell_type": "markdown",
      "source": [
        "## Import dataset"
      ],
      "metadata": {
        "id": "5C3w7OoiKaGX"
      }
    },
    {
      "cell_type": "code",
      "execution_count": 37,
      "metadata": {
        "id": "OCh4WqbqD6bj"
      },
      "outputs": [],
      "source": [
        "import os\n",
        "if not os.path.isdir(\"HappyML\"):\n",
        "  os.system(\"git clone https://github.com/cnchi/HappyML.git\")\n",
        "\n",
        "import pandas as pd\n",
        "df = pd.read_csv(\"Position_Salaries.csv\")"
      ]
    },
    {
      "cell_type": "markdown",
      "source": [
        "## Split independent variables and dependent variable"
      ],
      "metadata": {
        "id": "quQzHwLfKouD"
      }
    },
    {
      "cell_type": "code",
      "source": [
        "import HappyML.preprocessor as pp\n",
        "\n",
        "X, Y = pp.decomposition(dataset=df, x_columns=[1], y_columns=[-1])\n",
        "X = X.values\n",
        "Y = Y.values\n",
        "print(X)\n",
        "print(Y)"
      ],
      "metadata": {
        "colab": {
          "base_uri": "https://localhost:8080/"
        },
        "id": "4L4iBcGwKp5u",
        "outputId": "fb9f99ab-def8-4d93-f4f4-2c3a875acd2e"
      },
      "execution_count": 38,
      "outputs": [
        {
          "output_type": "stream",
          "name": "stdout",
          "text": [
            "[[ 1]\n",
            " [ 2]\n",
            " [ 3]\n",
            " [ 4]\n",
            " [ 5]\n",
            " [ 6]\n",
            " [ 7]\n",
            " [ 8]\n",
            " [ 9]\n",
            " [10]]\n",
            "[[  45000]\n",
            " [  50000]\n",
            " [  60000]\n",
            " [  80000]\n",
            " [ 110000]\n",
            " [ 150000]\n",
            " [ 200000]\n",
            " [ 300000]\n",
            " [ 500000]\n",
            " [1000000]]\n"
          ]
        }
      ]
    },
    {
      "cell_type": "markdown",
      "source": [
        "## Handle missing data"
      ],
      "metadata": {
        "id": "WmgfzgouKxKd"
      }
    },
    {
      "cell_type": "code",
      "source": [
        "print(df.isnull().sum())"
      ],
      "metadata": {
        "colab": {
          "base_uri": "https://localhost:8080/"
        },
        "id": "lN8N2QaRKySq",
        "outputId": "327bee84-3189-469c-9369-7df010a6dfa6"
      },
      "execution_count": 39,
      "outputs": [
        {
          "output_type": "stream",
          "name": "stdout",
          "text": [
            "Position    0\n",
            "Level       0\n",
            "Salary      0\n",
            "dtype: int64\n"
          ]
        }
      ]
    },
    {
      "cell_type": "markdown",
      "source": [
        "## Feature scaling"
      ],
      "metadata": {
        "id": "F4wETncRLCQU"
      }
    },
    {
      "cell_type": "code",
      "source": [
        "from sklearn.preprocessing import StandardScaler\n",
        "\n",
        "sc_X = StandardScaler()\n",
        "sc_Y = StandardScaler()\n",
        "X = sc_X.fit_transform(X)\n",
        "Y = sc_Y.fit_transform(Y)\n",
        "\n",
        "print(X)\n",
        "print(Y)"
      ],
      "metadata": {
        "colab": {
          "base_uri": "https://localhost:8080/"
        },
        "id": "Lr5d9jcULELN",
        "outputId": "95ddf2c6-402c-48a8-eb8b-636d9b870098"
      },
      "execution_count": 40,
      "outputs": [
        {
          "output_type": "stream",
          "name": "stdout",
          "text": [
            "[[-1.5666989 ]\n",
            " [-1.21854359]\n",
            " [-0.87038828]\n",
            " [-0.52223297]\n",
            " [-0.17407766]\n",
            " [ 0.17407766]\n",
            " [ 0.52223297]\n",
            " [ 0.87038828]\n",
            " [ 1.21854359]\n",
            " [ 1.5666989 ]]\n",
            "[[-0.72004253]\n",
            " [-0.70243757]\n",
            " [-0.66722767]\n",
            " [-0.59680786]\n",
            " [-0.49117815]\n",
            " [-0.35033854]\n",
            " [-0.17428902]\n",
            " [ 0.17781001]\n",
            " [ 0.88200808]\n",
            " [ 2.64250325]]\n"
          ]
        }
      ]
    },
    {
      "cell_type": "markdown",
      "source": [
        "# Linear model processing"
      ],
      "metadata": {
        "id": "YFtRVZldK3SO"
      }
    },
    {
      "cell_type": "markdown",
      "source": [
        "## Model training"
      ],
      "metadata": {
        "id": "24rCQS-dK4tg"
      }
    },
    {
      "cell_type": "code",
      "source": [
        "from sklearn.svm import SVR\n",
        "\n",
        "regressor = SVR(kernel=\"rbf\")\n",
        "regressor.fit(X, Y)"
      ],
      "metadata": {
        "colab": {
          "base_uri": "https://localhost:8080/",
          "height": 129
        },
        "id": "jYWDhSUnK7Zj",
        "outputId": "4b4966d6-c33d-40f3-9e80-558c43f70991"
      },
      "execution_count": 41,
      "outputs": [
        {
          "output_type": "stream",
          "name": "stderr",
          "text": [
            "/usr/local/lib/python3.10/dist-packages/sklearn/utils/validation.py:1143: DataConversionWarning: A column-vector y was passed when a 1d array was expected. Please change the shape of y to (n_samples, ), for example using ravel().\n",
            "  y = column_or_1d(y, warn=True)\n"
          ]
        },
        {
          "output_type": "execute_result",
          "data": {
            "text/plain": [
              "SVR()"
            ],
            "text/html": [
              "<style>#sk-container-id-4 {color: black;background-color: white;}#sk-container-id-4 pre{padding: 0;}#sk-container-id-4 div.sk-toggleable {background-color: white;}#sk-container-id-4 label.sk-toggleable__label {cursor: pointer;display: block;width: 100%;margin-bottom: 0;padding: 0.3em;box-sizing: border-box;text-align: center;}#sk-container-id-4 label.sk-toggleable__label-arrow:before {content: \"▸\";float: left;margin-right: 0.25em;color: #696969;}#sk-container-id-4 label.sk-toggleable__label-arrow:hover:before {color: black;}#sk-container-id-4 div.sk-estimator:hover label.sk-toggleable__label-arrow:before {color: black;}#sk-container-id-4 div.sk-toggleable__content {max-height: 0;max-width: 0;overflow: hidden;text-align: left;background-color: #f0f8ff;}#sk-container-id-4 div.sk-toggleable__content pre {margin: 0.2em;color: black;border-radius: 0.25em;background-color: #f0f8ff;}#sk-container-id-4 input.sk-toggleable__control:checked~div.sk-toggleable__content {max-height: 200px;max-width: 100%;overflow: auto;}#sk-container-id-4 input.sk-toggleable__control:checked~label.sk-toggleable__label-arrow:before {content: \"▾\";}#sk-container-id-4 div.sk-estimator input.sk-toggleable__control:checked~label.sk-toggleable__label {background-color: #d4ebff;}#sk-container-id-4 div.sk-label input.sk-toggleable__control:checked~label.sk-toggleable__label {background-color: #d4ebff;}#sk-container-id-4 input.sk-hidden--visually {border: 0;clip: rect(1px 1px 1px 1px);clip: rect(1px, 1px, 1px, 1px);height: 1px;margin: -1px;overflow: hidden;padding: 0;position: absolute;width: 1px;}#sk-container-id-4 div.sk-estimator {font-family: monospace;background-color: #f0f8ff;border: 1px dotted black;border-radius: 0.25em;box-sizing: border-box;margin-bottom: 0.5em;}#sk-container-id-4 div.sk-estimator:hover {background-color: #d4ebff;}#sk-container-id-4 div.sk-parallel-item::after {content: \"\";width: 100%;border-bottom: 1px solid gray;flex-grow: 1;}#sk-container-id-4 div.sk-label:hover label.sk-toggleable__label {background-color: #d4ebff;}#sk-container-id-4 div.sk-serial::before {content: \"\";position: absolute;border-left: 1px solid gray;box-sizing: border-box;top: 0;bottom: 0;left: 50%;z-index: 0;}#sk-container-id-4 div.sk-serial {display: flex;flex-direction: column;align-items: center;background-color: white;padding-right: 0.2em;padding-left: 0.2em;position: relative;}#sk-container-id-4 div.sk-item {position: relative;z-index: 1;}#sk-container-id-4 div.sk-parallel {display: flex;align-items: stretch;justify-content: center;background-color: white;position: relative;}#sk-container-id-4 div.sk-item::before, #sk-container-id-4 div.sk-parallel-item::before {content: \"\";position: absolute;border-left: 1px solid gray;box-sizing: border-box;top: 0;bottom: 0;left: 50%;z-index: -1;}#sk-container-id-4 div.sk-parallel-item {display: flex;flex-direction: column;z-index: 1;position: relative;background-color: white;}#sk-container-id-4 div.sk-parallel-item:first-child::after {align-self: flex-end;width: 50%;}#sk-container-id-4 div.sk-parallel-item:last-child::after {align-self: flex-start;width: 50%;}#sk-container-id-4 div.sk-parallel-item:only-child::after {width: 0;}#sk-container-id-4 div.sk-dashed-wrapped {border: 1px dashed gray;margin: 0 0.4em 0.5em 0.4em;box-sizing: border-box;padding-bottom: 0.4em;background-color: white;}#sk-container-id-4 div.sk-label label {font-family: monospace;font-weight: bold;display: inline-block;line-height: 1.2em;}#sk-container-id-4 div.sk-label-container {text-align: center;}#sk-container-id-4 div.sk-container {/* jupyter's `normalize.less` sets `[hidden] { display: none; }` but bootstrap.min.css set `[hidden] { display: none !important; }` so we also need the `!important` here to be able to override the default hidden behavior on the sphinx rendered scikit-learn.org. See: https://github.com/scikit-learn/scikit-learn/issues/21755 */display: inline-block !important;position: relative;}#sk-container-id-4 div.sk-text-repr-fallback {display: none;}</style><div id=\"sk-container-id-4\" class=\"sk-top-container\"><div class=\"sk-text-repr-fallback\"><pre>SVR()</pre><b>In a Jupyter environment, please rerun this cell to show the HTML representation or trust the notebook. <br />On GitHub, the HTML representation is unable to render, please try loading this page with nbviewer.org.</b></div><div class=\"sk-container\" hidden><div class=\"sk-item\"><div class=\"sk-estimator sk-toggleable\"><input class=\"sk-toggleable__control sk-hidden--visually\" id=\"sk-estimator-id-4\" type=\"checkbox\" checked><label for=\"sk-estimator-id-4\" class=\"sk-toggleable__label sk-toggleable__label-arrow\">SVR</label><div class=\"sk-toggleable__content\"><pre>SVR()</pre></div></div></div></div></div>"
            ]
          },
          "metadata": {},
          "execution_count": 41
        }
      ]
    },
    {
      "cell_type": "markdown",
      "source": [
        "## Visualizing results"
      ],
      "metadata": {
        "id": "YpAf52dmLnxr"
      }
    },
    {
      "cell_type": "code",
      "source": [
        "import matplotlib.pyplot as plt\n",
        "\n",
        "plt.scatter(sc_X.inverse_transform(X), sc_Y.inverse_transform(Y), color = 'red', label='Actual Data')\n",
        "plt.plot(sc_X.inverse_transform(X), sc_Y.inverse_transform(regressor.predict(X).reshape(-1,1)), color = 'blue', label='Regression Line')\n",
        "plt.title('Truth or Bluff (SVR)')\n",
        "plt.xlabel('Position level')\n",
        "plt.ylabel('Salary')\n",
        "plt.show()"
      ],
      "metadata": {
        "colab": {
          "base_uri": "https://localhost:8080/",
          "height": 472
        },
        "id": "zg2VeWAwLo1H",
        "outputId": "a12607b3-6ad4-451f-e038-f7e5ec0c273e"
      },
      "execution_count": 42,
      "outputs": [
        {
          "output_type": "display_data",
          "data": {
            "text/plain": [
              "<Figure size 640x480 with 1 Axes>"
            ],
            "image/png": "[encoded data removed]"
          },
          "metadata": {}
        }
      ]
    },
    {
      "cell_type": "markdown",
      "source": [
        "## Visualizing results(smoother curve & higher resolution)"
      ],
      "metadata": {
        "id": "Nz2EGVSEMNO9"
      }
    },
    {
      "cell_type": "code",
      "source": [
        "import numpy as np\n",
        "\n",
        "X_grid = np.arange(min(sc_X.inverse_transform(X)), max(sc_X.inverse_transform(X)), 0.1) # add float\n",
        "X_grid = X_grid.reshape((len(X_grid), 1)) # turn 1 row, 10 columns into 10 rows, 1 column\n",
        "X_grid = sc_X.transform(X_grid)\n",
        "print(X_grid)\n",
        "\n",
        "plt.scatter(sc_X.inverse_transform(X), sc_Y.inverse_transform(Y), color = 'red', label='Actual Data')\n",
        "plt.plot(sc_X.inverse_transform(X_grid), sc_Y.inverse_transform(regressor.predict(X_grid).reshape(-1, 1)), color = 'blue', label='Regression Line')\n",
        "plt.title(\"Truth or Bluff (SVR)\")\n",
        "plt.xlabel(\"Position level\")\n",
        "plt.ylabel('Salary')\n",
        "plt.legend()\n",
        "plt.show()"
      ],
      "metadata": {
        "colab": {
          "base_uri": "https://localhost:8080/",
          "height": 1000
        },
        "id": "oSTE5ZHBMOMt",
        "outputId": "d4c76326-a85f-42c0-88b0-ef5c214bb82e"
      },
      "execution_count": 43,
      "outputs": [
        {
          "output_type": "stream",
          "name": "stdout",
          "text": [
            "[[-1.56669890e+00]\n",
            " [-1.53188337e+00]\n",
            " [-1.49706784e+00]\n",
            " [-1.46225231e+00]\n",
            " [-1.42743678e+00]\n",
            " [-1.39262125e+00]\n",
            " [-1.35780572e+00]\n",
            " [-1.32299019e+00]\n",
            " [-1.28817465e+00]\n",
            " [-1.25335912e+00]\n",
            " [-1.21854359e+00]\n",
            " [-1.18372806e+00]\n",
            " [-1.14891253e+00]\n",
            " [-1.11409700e+00]\n",
            " [-1.07928147e+00]\n",
            " [-1.04446594e+00]\n",
            " [-1.00965040e+00]\n",
            " [-9.74834873e-01]\n",
            " [-9.40019342e-01]\n",
            " [-9.05203811e-01]\n",
            " [-8.70388280e-01]\n",
            " [-8.35572749e-01]\n",
            " [-8.00757217e-01]\n",
            " [-7.65941686e-01]\n",
            " [-7.31126155e-01]\n",
            " [-6.96310624e-01]\n",
            " [-6.61495093e-01]\n",
            " [-6.26679561e-01]\n",
            " [-5.91864030e-01]\n",
            " [-5.57048499e-01]\n",
            " [-5.22232968e-01]\n",
            " [-4.87417437e-01]\n",
            " [-4.52601905e-01]\n",
            " [-4.17786374e-01]\n",
            " [-3.82970843e-01]\n",
            " [-3.48155312e-01]\n",
            " [-3.13339781e-01]\n",
            " [-2.78524250e-01]\n",
            " [-2.43708718e-01]\n",
            " [-2.08893187e-01]\n",
            " [-1.74077656e-01]\n",
            " [-1.39262125e-01]\n",
            " [-1.04446594e-01]\n",
            " [-6.96310624e-02]\n",
            " [-3.48155312e-02]\n",
            " [ 1.23689614e-15]\n",
            " [ 3.48155312e-02]\n",
            " [ 6.96310624e-02]\n",
            " [ 1.04446594e-01]\n",
            " [ 1.39262125e-01]\n",
            " [ 1.74077656e-01]\n",
            " [ 2.08893187e-01]\n",
            " [ 2.43708718e-01]\n",
            " [ 2.78524250e-01]\n",
            " [ 3.13339781e-01]\n",
            " [ 3.48155312e-01]\n",
            " [ 3.82970843e-01]\n",
            " [ 4.17786374e-01]\n",
            " [ 4.52601905e-01]\n",
            " [ 4.87417437e-01]\n",
            " [ 5.22232968e-01]\n",
            " [ 5.57048499e-01]\n",
            " [ 5.91864030e-01]\n",
            " [ 6.26679561e-01]\n",
            " [ 6.61495093e-01]\n",
            " [ 6.96310624e-01]\n",
            " [ 7.31126155e-01]\n",
            " [ 7.65941686e-01]\n",
            " [ 8.00757217e-01]\n",
            " [ 8.35572749e-01]\n",
            " [ 8.70388280e-01]\n",
            " [ 9.05203811e-01]\n",
            " [ 9.40019342e-01]\n",
            " [ 9.74834873e-01]\n",
            " [ 1.00965040e+00]\n",
            " [ 1.04446594e+00]\n",
            " [ 1.07928147e+00]\n",
            " [ 1.11409700e+00]\n",
            " [ 1.14891253e+00]\n",
            " [ 1.18372806e+00]\n",
            " [ 1.21854359e+00]\n",
            " [ 1.25335912e+00]\n",
            " [ 1.28817465e+00]\n",
            " [ 1.32299019e+00]\n",
            " [ 1.35780572e+00]\n",
            " [ 1.39262125e+00]\n",
            " [ 1.42743678e+00]\n",
            " [ 1.46225231e+00]\n",
            " [ 1.49706784e+00]\n",
            " [ 1.53188337e+00]]\n"
          ]
        },
        {
          "output_type": "display_data",
          "data": {
            "text/plain": [
              "<Figure size 640x480 with 1 Axes>"
            ],
            "image/png": "[encoded data removed]"
          },
          "metadata": {}
        }
      ]
    },
    {
      "cell_type": "markdown",
      "source": [
        "## Answer prediction"
      ],
      "metadata": {
        "id": "asSRZIK8OjOx"
      }
    },
    {
      "cell_type": "code",
      "source": [
        "print(sc_Y.inverse_transform(regressor.predict(sc_X.transform([[8.5]])).reshape(-1, 1)))"
      ],
      "metadata": {
        "colab": {
          "base_uri": "https://localhost:8080/"
        },
        "id": "hUPMW1QUOghk",
        "outputId": "ef2997b7-0311-4a53-c8fd-0af8488d7ace"
      },
      "execution_count": 44,
      "outputs": [
        {
          "output_type": "stream",
          "name": "stdout",
          "text": [
            "[[403162.81672181]]\n"
          ]
        }
      ]
    }
  ]
}